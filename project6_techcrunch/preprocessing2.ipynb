{
 "cells": [
  {
   "cell_type": "code",
   "execution_count": 18,
   "metadata": {
    "collapsed": true
   },
   "outputs": [],
   "source": [
    "# want to extract \n",
    "# 1) company name"
   ]
  },
  {
   "cell_type": "code",
   "execution_count": 19,
   "metadata": {
    "collapsed": true
   },
   "outputs": [],
   "source": [
    "import pandas as pd\n",
    "import re\n",
    "data = pd.read_csv(\"article_after_processing1.csv\", encoding='iso-8859-1')"
   ]
  },
  {
   "cell_type": "code",
   "execution_count": 20,
   "metadata": {
    "scrolled": true
   },
   "outputs": [
    {
     "data": {
      "text/plain": [
       "(646, 6)"
      ]
     },
     "execution_count": 20,
     "metadata": {},
     "output_type": "execute_result"
    }
   ],
   "source": [
    "data.shape"
   ]
  },
  {
   "cell_type": "code",
   "execution_count": 30,
   "metadata": {
    "collapsed": true,
    "scrolled": true
   },
   "outputs": [],
   "source": [
    "# get a company name\n",
    "def get_company(item):\n",
    "    regex = re.compile(r\"(\\w*\\s*\\w+.{0,1})(,.+,)*\\s(raise|land|grab|step|receive|get|collect|close|secure|take|tap|score|snare|snag|nab|win)\", re.IGNORECASE)\n",
    "    matched = re.search(regex, item)\n",
    "    if matched:\n",
    "        return matched.group(1)\n",
    "    else:\n",
    "        regex2 = re.compile(r\"(marketplace|firm|startup|company|competitor|platform|developer|retailer)\\s(\\w+\\s*\\w*)\", re.IGNORECASE)\n",
    "        matched2 = re.search(regex2, item)\n",
    "        if matched2:\n",
    "            return matched2.group(2)\n",
    "        else:\n",
    "            regex3 = re.compile(r\"^(\\w+\\s\\w+|\\w+)\\s\\w+s\\s\", re.IGNORECASE)\n",
    "            matched3 = re.search(regex3, item)\n",
    "            if matched3:\n",
    "                return matched3.group(1)\n",
    "            else:\n",
    "                regex4 = re.compile(r\"(\\w+|\\w+\\s\\w+),\\s\", re.IGNORECASE)\n",
    "                matched4 = re.search(regex4, item)\n",
    "                if matched4:\n",
    "                    return matched4.group(1)\n",
    "                else:\n",
    "                    return \"NA\"\n",
    "\n",
    "data[\"Temp_company\"] = data.title.apply(lambda item: get_company(item))"
   ]
  },
  {
   "cell_type": "code",
   "execution_count": 26,
   "metadata": {},
   "outputs": [],
   "source": [
    "# get doc.com company name (overwrite)\n",
    "def get_dot_com(item):\n",
    "    regex = re.compile(r'\\w+\\.com')\n",
    "    matched = re.search(regex, item)\n",
    "    if matched:\n",
    "        return matched.group(0)\n",
    "    else:\n",
    "        pass\n",
    "data[\"Dot.company\"] = data.title.apply(lambda item: get_dot_com(item))"
   ]
  },
  {
   "cell_type": "code",
   "execution_count": 31,
   "metadata": {},
   "outputs": [],
   "source": [
    "# combine \"Company\" column and \"Dot.company\" column\n",
    "data[\"Company\"] = data[\"Dot.company\"].fillna(data[\"Temp_company\"])"
   ]
  },
  {
   "cell_type": "code",
   "execution_count": 32,
   "metadata": {},
   "outputs": [
    {
     "data": {
      "text/plain": [
       "620"
      ]
     },
     "execution_count": 32,
     "metadata": {},
     "output_type": "execute_result"
    }
   ],
   "source": [
    "sum(data.Company != \"NA\")"
   ]
  },
  {
   "cell_type": "code",
   "execution_count": 25,
   "metadata": {
    "collapsed": true,
    "scrolled": false
   },
   "outputs": [],
   "source": [
    "# remove Company != \"NA\"\n",
    "data = data[data.Company != \"NA\"]"
   ]
  },
  {
   "cell_type": "code",
   "execution_count": 36,
   "metadata": {
    "scrolled": true
   },
   "outputs": [],
   "source": [
    "regex = re.compile(r\"\\s*(marketplace|firm|startup|company|service|maker|network|leader|solution|competitor|platform|developer|retailer)\\s*\", re.IGNORECASE)\n",
    "data[\"Company\"] = data.Company.apply(lambda item: re.sub(regex, '',item))"
   ]
  },
  {
   "cell_type": "code",
   "execution_count": 38,
   "metadata": {
    "scrolled": true
   },
   "outputs": [],
   "source": [
    "data.to_csv(\"article_after_processing2.csv\", index = False)"
   ]
  },
  {
   "cell_type": "code",
   "execution_count": 39,
   "metadata": {},
   "outputs": [
    {
     "data": {
      "text/plain": [
       "(620, 9)"
      ]
     },
     "execution_count": 39,
     "metadata": {},
     "output_type": "execute_result"
    }
   ],
   "source": [
    "data.shape"
   ]
  }
 ],
 "metadata": {
  "kernelspec": {
   "display_name": "Python 3",
   "language": "python",
   "name": "python3"
  },
  "language_info": {
   "codemirror_mode": {
    "name": "ipython",
    "version": 3
   },
   "file_extension": ".py",
   "mimetype": "text/x-python",
   "name": "python",
   "nbconvert_exporter": "python",
   "pygments_lexer": "ipython3",
   "version": "3.6.0"
  }
 },
 "nbformat": 4,
 "nbformat_minor": 2
}
