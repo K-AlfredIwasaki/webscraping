{
 "cells": [
  {
   "cell_type": "code",
   "execution_count": 1,
   "metadata": {
    "collapsed": true
   },
   "outputs": [],
   "source": [
    "# want to extract \n",
    "# 1) when an article is published at \n",
    "# 2) funding round, \n",
    "# 3) money raied"
   ]
  },
  {
   "cell_type": "code",
   "execution_count": 2,
   "metadata": {
    "collapsed": true
   },
   "outputs": [],
   "source": [
    "import pandas as pd\n",
    "import re\n",
    "data = pd.read_csv(\"article.csv\", encoding='iso-8859-1')"
   ]
  },
  {
   "cell_type": "code",
   "execution_count": 3,
   "metadata": {
    "scrolled": false
   },
   "outputs": [
    {
     "data": {
      "text/html": [
       "<div>\n",
       "<table border=\"1\" class=\"dataframe\">\n",
       "  <thead>\n",
       "    <tr style=\"text-align: right;\">\n",
       "      <th></th>\n",
       "      <th>title</th>\n",
       "      <th>link</th>\n",
       "      <th>excerpt</th>\n",
       "    </tr>\n",
       "  </thead>\n",
       "  <tbody>\n",
       "    <tr>\n",
       "      <th>0</th>\n",
       "      <td>Indian online lending platform Capital Float r...</td>\n",
       "      <td>https://techcrunch.com/2017/08/21/indian-onlin...</td>\n",
       "      <td>Capital Float, which claims to be the largest ...</td>\n",
       "    </tr>\n",
       "    <tr>\n",
       "      <th>1</th>\n",
       "      <td>Carwow, a UK startup that helps you buy a new ...</td>\n",
       "      <td>https://techcrunch.com/2017/07/30/carwow-serie...</td>\n",
       "      <td>Carwow, a platform that helps you buy a new ca...</td>\n",
       "    </tr>\n",
       "    <tr>\n",
       "      <th>2</th>\n",
       "      <td>Stash raises $40 million Series C to make inve...</td>\n",
       "      <td>https://techcrunch.com/2017/07/13/stash-raises...</td>\n",
       "      <td>Micro-investing app Stash has raised an additi...</td>\n",
       "    </tr>\n",
       "    <tr>\n",
       "      <th>3</th>\n",
       "      <td>Blowing up the re-location industry, Move Guid...</td>\n",
       "      <td>https://techcrunch.com/2017/07/11/blowing-up-t...</td>\n",
       "      <td>Whatever any country leader says about banning...</td>\n",
       "    </tr>\n",
       "    <tr>\n",
       "      <th>4</th>\n",
       "      <td>Cohesity raises $90M+ Series C round for its h...</td>\n",
       "      <td>https://techcrunch.com/2017/04/04/cohesity-rai...</td>\n",
       "      <td>Cohesity, a company that helps enterprises to ...</td>\n",
       "    </tr>\n",
       "    <tr>\n",
       "      <th>5</th>\n",
       "      <td>Digg raises Series C led by USA Today owner Ga...</td>\n",
       "      <td>https://techcrunch.com/2016/09/13/digg-raises-...</td>\n",
       "      <td>As publishers of dead-tree newspapers continue...</td>\n",
       "    </tr>\n",
       "    <tr>\n",
       "      <th>6</th>\n",
       "      <td>After bump in the road, Movinga raises 17M Se...</td>\n",
       "      <td>https://techcrunch.com/2016/12/08/on-the-movin...</td>\n",
       "      <td>Berlin's startup scene is probably the most go...</td>\n",
       "    </tr>\n",
       "    <tr>\n",
       "      <th>7</th>\n",
       "      <td>Leanplum raises $29M Series C round for its mo...</td>\n",
       "      <td>https://techcrunch.com/2016/10/19/leanplum-rai...</td>\n",
       "      <td>Leanplum started out as a mobile A/B testing p...</td>\n",
       "    </tr>\n",
       "    <tr>\n",
       "      <th>8</th>\n",
       "      <td>Forter raises $32M Series C, continues battle ...</td>\n",
       "      <td>https://techcrunch.com/2016/04/21/forter-serie...</td>\n",
       "      <td>Fraud prevention company Forter today announce...</td>\n",
       "    </tr>\n",
       "    <tr>\n",
       "      <th>9</th>\n",
       "      <td>MemSQL raises $36M Series C round for its in-m...</td>\n",
       "      <td>https://techcrunch.com/2016/04/21/memsql-raise...</td>\n",
       "      <td>In-memory database platform MemSQL today annou...</td>\n",
       "    </tr>\n",
       "  </tbody>\n",
       "</table>\n",
       "</div>"
      ],
      "text/plain": [
       "                                               title  \\\n",
       "0  Indian online lending platform Capital Float r...   \n",
       "1  Carwow, a UK startup that helps you buy a new ...   \n",
       "2  Stash raises $40 million Series C to make inve...   \n",
       "3  Blowing up the re-location industry, Move Guid...   \n",
       "4  Cohesity raises $90M+ Series C round for its h...   \n",
       "5  Digg raises Series C led by USA Today owner Ga...   \n",
       "6  After bump in the road, Movinga raises 17M Se...   \n",
       "7  Leanplum raises $29M Series C round for its mo...   \n",
       "8  Forter raises $32M Series C, continues battle ...   \n",
       "9  MemSQL raises $36M Series C round for its in-m...   \n",
       "\n",
       "                                                link  \\\n",
       "0  https://techcrunch.com/2017/08/21/indian-onlin...   \n",
       "1  https://techcrunch.com/2017/07/30/carwow-serie...   \n",
       "2  https://techcrunch.com/2017/07/13/stash-raises...   \n",
       "3  https://techcrunch.com/2017/07/11/blowing-up-t...   \n",
       "4  https://techcrunch.com/2017/04/04/cohesity-rai...   \n",
       "5  https://techcrunch.com/2016/09/13/digg-raises-...   \n",
       "6  https://techcrunch.com/2016/12/08/on-the-movin...   \n",
       "7  https://techcrunch.com/2016/10/19/leanplum-rai...   \n",
       "8  https://techcrunch.com/2016/04/21/forter-serie...   \n",
       "9  https://techcrunch.com/2016/04/21/memsql-raise...   \n",
       "\n",
       "                                             excerpt  \n",
       "0  Capital Float, which claims to be the largest ...  \n",
       "1  Carwow, a platform that helps you buy a new ca...  \n",
       "2  Micro-investing app Stash has raised an additi...  \n",
       "3  Whatever any country leader says about banning...  \n",
       "4  Cohesity, a company that helps enterprises to ...  \n",
       "5  As publishers of dead-tree newspapers continue...  \n",
       "6  Berlin's startup scene is probably the most go...  \n",
       "7  Leanplum started out as a mobile A/B testing p...  \n",
       "8  Fraud prevention company Forter today announce...  \n",
       "9  In-memory database platform MemSQL today annou...  "
      ]
     },
     "execution_count": 3,
     "metadata": {},
     "output_type": "execute_result"
    }
   ],
   "source": [
    "data.head(10)"
   ]
  },
  {
   "cell_type": "code",
   "execution_count": 4,
   "metadata": {
    "collapsed": true
   },
   "outputs": [],
   "source": [
    "# drop separator rows\n",
    "data = data[data.title != \"title\"]"
   ]
  },
  {
   "cell_type": "code",
   "execution_count": 5,
   "metadata": {},
   "outputs": [
    {
     "data": {
      "text/plain": [
       "(1066, 3)"
      ]
     },
     "execution_count": 5,
     "metadata": {},
     "output_type": "execute_result"
    }
   ],
   "source": [
    "data.shape"
   ]
  },
  {
   "cell_type": "code",
   "execution_count": 6,
   "metadata": {
    "collapsed": true
   },
   "outputs": [],
   "source": [
    "# get published_at info\n",
    "def get_dates(x):\n",
    "    try:\n",
    "        return re.search(r'^https:\\/\\/techcrunch\\.com\\/(\\d{4}\\/\\d{2}\\/\\d{2})', x).group(1)\n",
    "    except:\n",
    "        return 0\n",
    "    \n",
    "# new column \"publiched_at\"\n",
    "data[\"published_at\"] = data.link.apply(get_dates)"
   ]
  },
  {
   "cell_type": "code",
   "execution_count": 7,
   "metadata": {
    "collapsed": true
   },
   "outputs": [],
   "source": [
    "# remove article without published ate\n",
    "data = data[data.published_at != 0]"
   ]
  },
  {
   "cell_type": "code",
   "execution_count": 8,
   "metadata": {
    "collapsed": true
   },
   "outputs": [],
   "source": [
    "# get funding_round info\n",
    "def get_funding_round(row):\n",
    "    try:\n",
    "        # align formatting as \"Series A(B, C, E)\"\n",
    "        round_info =  re.search(r'[Ss]eries.[ABCDE]', row[\"title\"]).group(0)\n",
    "        return \"Series {}\".format(round_info.split(\" \")[1])\n",
    "        \n",
    "    except:\n",
    "        try:\n",
    "            return re.search(r'[Ss]eries.[ABCDE]', row[\"excerpt\"]).group(0)\n",
    "            print (\"test\")\n",
    "        except:\n",
    "            return \"NA\"\n",
    "        \n",
    "data[\"funding_round\"] = data.apply(lambda row: get_funding_round(row), axis = 1)"
   ]
  },
  {
   "cell_type": "code",
   "execution_count": 9,
   "metadata": {
    "collapsed": true
   },
   "outputs": [],
   "source": [
    "# get money_raied info\n",
    "def get_money_raised(row):\n",
    "    try:\n",
    "        # reformatting as \"$100M\"\n",
    "        money = re.search(r'(\\D\\d{1,}\\.*\\d*)\\s*([Mm])[illion]*', row[\"title\"])\n",
    "        return money.group(1) + \" \" + money.group(2).upper()\n",
    "        \n",
    "    except:\n",
    "        try:\n",
    "            money = re.search(r'(\\D\\d{1,}\\.*\\d*)\\s*([Mm])[illion]*', row[\"excerpt\"])\n",
    "            return money.group(1) + \" \" + money.group(2).upper()\n",
    "        except:\n",
    "            return \"unknown\"\n",
    "\n",
    "data[\"money_raised\"] = data.apply(lambda row: get_money_raised(row), axis = 1)"
   ]
  },
  {
   "cell_type": "code",
   "execution_count": 10,
   "metadata": {
    "collapsed": true
   },
   "outputs": [],
   "source": [
    "# drop money_raised == \"NA\" AND money_raised == \"unknown\"\n",
    "data.drop(data[ (data.funding_round == \"NA\") & (data.money_raised == \"unknown\")].index, inplace = True)"
   ]
  },
  {
   "cell_type": "code",
   "execution_count": 11,
   "metadata": {
    "scrolled": true
   },
   "outputs": [
    {
     "data": {
      "text/plain": [
       "261"
      ]
     },
     "execution_count": 11,
     "metadata": {},
     "output_type": "execute_result"
    }
   ],
   "source": [
    "sum(data.duplicated())"
   ]
  },
  {
   "cell_type": "code",
   "execution_count": 12,
   "metadata": {
    "collapsed": true
   },
   "outputs": [],
   "source": [
    "data.drop_duplicates(inplace = True)"
   ]
  },
  {
   "cell_type": "code",
   "execution_count": 13,
   "metadata": {},
   "outputs": [
    {
     "data": {
      "text/plain": [
       "(646, 6)"
      ]
     },
     "execution_count": 13,
     "metadata": {},
     "output_type": "execute_result"
    }
   ],
   "source": [
    "data.shape"
   ]
  },
  {
   "cell_type": "code",
   "execution_count": 14,
   "metadata": {},
   "outputs": [],
   "source": [
    "data.to_csv(\"article_after_processing1.csv\", index = False)"
   ]
  }
 ],
 "metadata": {
  "kernelspec": {
   "display_name": "Python 3",
   "language": "python",
   "name": "python3"
  },
  "language_info": {
   "codemirror_mode": {
    "name": "ipython",
    "version": 3
   },
   "file_extension": ".py",
   "mimetype": "text/x-python",
   "name": "python",
   "nbconvert_exporter": "python",
   "pygments_lexer": "ipython3",
   "version": "3.6.0"
  }
 },
 "nbformat": 4,
 "nbformat_minor": 2
}
